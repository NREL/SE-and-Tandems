{
 "cells": [
  {
   "cell_type": "markdown",
   "id": "be777079-ba58-4fe5-bc11-c8a4e8225f05",
   "metadata": {
    "tags": []
   },
   "source": [
    "# Tandem Performance GUI\n",
    "\n",
    "## Please read the instructions of Tandem Performance calculator in readme file before using this GUI-based Tandem Performance calculator "
   ]
  },
  {
   "cell_type": "code",
   "execution_count": 1,
   "id": "938ad5b6-3434-4588-889f-48a82db6b08e",
   "metadata": {},
   "outputs": [],
   "source": [
    "%load_ext autoreload"
   ]
  },
  {
   "cell_type": "code",
   "execution_count": 2,
   "id": "3a1b418d-3fa3-4c35-bad4-14ed77330431",
   "metadata": {},
   "outputs": [],
   "source": [
    "%autoreload 1"
   ]
  },
  {
   "cell_type": "code",
   "execution_count": 3,
   "id": "fa058f1f-facc-4ab3-a707-bc3a126f658d",
   "metadata": {},
   "outputs": [],
   "source": [
    "import TandemPerformanceGUI as Tandem"
   ]
  },
  {
   "cell_type": "code",
   "execution_count": 4,
   "id": "04619b49-53bf-4464-953c-e5ff11b75d0a",
   "metadata": {},
   "outputs": [
    {
     "data": {
      "application/vnd.jupyter.widget-view+json": {
       "model_id": "4397700166e34fd5a96fb011ba81987c",
       "version_major": 2,
       "version_minor": 0
      },
      "text/plain": [
       "HBox(children=(VBox(children=(Label(value='Step 1: Select cells'), Label(value='Select Top Cell(s)'), SelectFi…"
      ]
     },
     "metadata": {},
     "output_type": "display_data"
    },
    {
     "data": {
      "application/vnd.jupyter.widget-view+json": {
       "model_id": "b7894e6fa9ca42db99eac4a5eaccc052",
       "version_major": 2,
       "version_minor": 0
      },
      "text/plain": [
       "HBox(children=(VBox(children=(Output(),), layout=Layout(align_items='center', display='flex', flex_flow='colum…"
      ]
     },
     "metadata": {},
     "output_type": "display_data"
    }
   ],
   "source": [
    "Tandem.te_controls()"
   ]
  },
  {
   "cell_type": "code",
   "execution_count": null,
   "id": "b3c4f234-8ac2-4f5a-a822-dd33f2bb3a06",
   "metadata": {},
   "outputs": [],
   "source": []
  },
  {
   "cell_type": "code",
   "execution_count": null,
   "id": "526483fb-5b73-428b-acb5-ccde7bdb27a9",
   "metadata": {},
   "outputs": [],
   "source": []
  }
 ],
 "metadata": {
  "kernelspec": {
   "display_name": "Python 3 (ipykernel)",
   "language": "python",
   "name": "python3"
  },
  "language_info": {
   "codemirror_mode": {
    "name": "ipython",
    "version": 3
   },
   "file_extension": ".py",
   "mimetype": "text/x-python",
   "name": "python",
   "nbconvert_exporter": "python",
   "pygments_lexer": "ipython3",
   "version": "3.11.5"
  },
  "vscode": {
   "interpreter": {
    "hash": "85ff4545ffb811a46119008347a8c7f8612b5360bd9ff2393968767976b1b1de"
   }
  }
 },
 "nbformat": 4,
 "nbformat_minor": 5
}
